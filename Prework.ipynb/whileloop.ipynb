{
 "cells": [
  {
   "cell_type": "code",
   "execution_count": 4,
   "metadata": {},
   "outputs": [
    {
     "name": "stdout",
     "output_type": "stream",
     "text": [
      "4\n",
      "3\n",
      "2\n",
      "1\n",
      "The stop number reched 0 so the while loop stopped executing\n"
     ]
    }
   ],
   "source": [
    "stop_number = 4\n",
    "while stop_number > 0:\n",
    "    print(stop_number)\n",
    "    stop_number = stop_number - 1\n",
    "print(\"The stop number reched\", stop_number, \"so the while loop stopped executing\")"
   ]
  },
  {
   "cell_type": "code",
   "execution_count": 6,
   "metadata": {},
   "outputs": [
    {
     "name": "stdout",
     "output_type": "stream",
     "text": [
      "18\n",
      "17\n",
      "16\n",
      "15\n",
      "14\n",
      "13\n",
      "12\n",
      "11\n",
      "10\n",
      "9\n",
      "8\n",
      "7\n",
      "6\n",
      "5\n",
      "4\n",
      "3\n",
      "2\n",
      "1\n",
      "0\n"
     ]
    }
   ],
   "source": [
    "import numpy as np\n",
    "random_num = np.random.randint(1,20)\n",
    "while random_num > 0:\n",
    "    random_num -=1\n",
    "    print(random_num)"
   ]
  },
  {
   "cell_type": "code",
   "execution_count": 8,
   "metadata": {},
   "outputs": [
    {
     "name": "stdout",
     "output_type": "stream",
     "text": [
      "--- [sips water] ----\n",
      "Ah that was refreshing\n",
      "hydration is now at 10 %\n",
      "\n",
      "--- [sips water] ----\n",
      "Ah that was refreshing\n",
      "hydration is now at 20 %\n",
      "\n",
      "--- [sips water] ----\n",
      "Ah that was refreshing\n",
      "hydration is now at 30 %\n",
      "\n",
      "--- [sips water] ----\n",
      "Ah that was refreshing\n",
      "hydration is now at 40 %\n",
      "\n",
      "--- [sips water] ----\n",
      "Ah that was refreshing\n",
      "hydration is now at 50 %\n",
      "\n",
      "--- [sips water] ----\n",
      "Ah that was refreshing\n",
      "hydration is now at 60 %\n",
      "\n",
      "--- [sips water] ----\n",
      "Ah that was refreshing\n",
      "hydration is now at 70 %\n",
      "\n",
      "--- [sips water] ----\n",
      "Ah that was refreshing\n",
      "hydration is now at 80 %\n",
      "\n",
      "--- [sips water] ----\n",
      "Ah that was refreshing\n",
      "hydration is now at 90 %\n",
      "\n",
      "--- [sips water] ----\n",
      "Ah that was refreshing\n",
      "hydration is now at 100 %\n",
      "\n"
     ]
    }
   ],
   "source": [
    "hydration = 0\n",
    "water = 1\n",
    "while hydration < 100 and water > 0:\n",
    "    print(\"--- [sips water] ----\")\n",
    "    water -= .1\n",
    "    print(\"Ah that was refreshing\")\n",
    "    hydration += 10\n",
    "    print(\"hydration is now at\", hydration, \"%\\n\")"
   ]
  },
  {
   "cell_type": "code",
   "execution_count": 9,
   "metadata": {},
   "outputs": [
    {
     "name": "stdout",
     "output_type": "stream",
     "text": [
      "0 is even\n",
      "this does not print for odd numbers\n",
      "because the continue statement skips\n",
      "the code that follows in the for loop\n",
      "and goes staight back in the code that follows in the for loop\n",
      "2 is even\n",
      "this does not print for odd numbers\n",
      "because the continue statement skips\n",
      "the code that follows in the for loop\n",
      "and goes staight back in the code that follows in the for loop\n",
      "4 is even\n",
      "this does not print for odd numbers\n",
      "because the continue statement skips\n",
      "the code that follows in the for loop\n",
      "and goes staight back in the code that follows in the for loop\n",
      "6 is even\n",
      "this does not print for odd numbers\n",
      "because the continue statement skips\n",
      "the code that follows in the for loop\n",
      "and goes staight back in the code that follows in the for loop\n",
      "8 is even\n",
      "this does not print for odd numbers\n",
      "because the continue statement skips\n",
      "the code that follows in the for loop\n",
      "and goes staight back in the code that follows in the for loop\n",
      "We have enough even numbers in new list (5). Break will stop the for loop\n"
     ]
    }
   ],
   "source": [
    "numbers = list(range(0, 30))\n",
    "new_list = []\n",
    "for num in numbers:\n",
    "    if len(new_list) > 4:\n",
    "        print(f\"We have enough even numbers in new list ({len(new_list)}). Break will stop the for loop\")\n",
    "        break\n",
    "    elif num % 2 == 0:\n",
    "        new_list.append(num)\n",
    "    elif num % 2 != 0:\n",
    "        continue\n",
    "        print(\"I never get executed\")\n",
    "    print(num, \"is even\")\n",
    "    print(\"this does not print for odd numbers\\nbecause the continue statement skips\\nthe code that follows in the for loop\\nand goes staight back in the code that follows in the for loop\")"
   ]
  },
  {
   "cell_type": "code",
   "execution_count": 10,
   "metadata": {},
   "outputs": [
    {
     "name": "stdout",
     "output_type": "stream",
     "text": [
      "0\n",
      "since we dont have a continue statement\n",
      "I'll always be executed\n",
      "1\n",
      "since we dont have a continue statement\n",
      "I'll always be executed\n",
      "2\n",
      "since we dont have a continue statement\n",
      "I'll always be executed\n",
      "3\n",
      "since we dont have a continue statement\n",
      "I'll always be executed\n",
      "4\n",
      "since we dont have a continue statement\n",
      "I'll always be executed\n"
     ]
    }
   ],
   "source": [
    "for i in list(range(0, 5)):\n",
    "    if True:\n",
    "        print(i)\n",
    "    print(\"since we dont have a continue statement\\nI'll always be executed\")"
   ]
  },
  {
   "cell_type": "code",
   "execution_count": 11,
   "metadata": {},
   "outputs": [
    {
     "name": "stdout",
     "output_type": "stream",
     "text": [
      "0\n",
      "1\n",
      "2\n",
      "3\n",
      "4\n"
     ]
    }
   ],
   "source": [
    "for i in list(range(0, 5)):\n",
    "    if True:\n",
    "        print(i)\n",
    "        continue\n",
    "    print(\"I'll never get executed\")"
   ]
  },
  {
   "cell_type": "code",
   "execution_count": 12,
   "metadata": {},
   "outputs": [
    {
     "name": "stdout",
     "output_type": "stream",
     "text": [
      "0\n"
     ]
    }
   ],
   "source": [
    "for i in list(range(0, 5)):\n",
    "    if True:\n",
    "        print(i)\n",
    "        break\n",
    "    print(\"I'll never get executed either\")"
   ]
  },
  {
   "cell_type": "code",
   "execution_count": 13,
   "metadata": {},
   "outputs": [
    {
     "name": "stdout",
     "output_type": "stream",
     "text": [
      "before ['aNNE', 'JaNe', 'willIAM', 'WanDA', 'WeSt', 'HELEN', 'tHoMaS', 'HENrY', 'John', 'Marshall', 'May']\n",
      "after ['Anne', 'Jane', 'Helen', 'Thomas']\n",
      "4\n"
     ]
    }
   ],
   "source": [
    "names = ['aNNE', 'JaNe', 'willIAM', 'WanDA', 'WeSt', 'HELEN', 'tHoMaS', 'HENrY', 'John', 'Marshall', 'May']\n",
    "formatted_names = []\n",
    "check_count = 0\n",
    "\n",
    "for name in names:\n",
    "    if name.startswith(\"w\") or name.startswith('W'):\n",
    "        check_count +=1\n",
    "        continue\n",
    "    elif len(formatted_names) >= 4:\n",
    "        check_count +=1\n",
    "        break\n",
    "    else:\n",
    "        formatted_names.append(name.title())\n",
    "\n",
    "print(\"before\", names)\n",
    "print(\"after\", formatted_names)\n",
    "print(check_count)"
   ]
  },
  {
   "cell_type": "code",
   "execution_count": 1,
   "metadata": {},
   "outputs": [
    {
     "name": "stdout",
     "output_type": "stream",
     "text": [
      "before ['aNNE', 'JaNe', 'willIAM', 'WanDA', 'WeSt', 'HELEN', 'tHoMaS', 'HENrY', 'John', 'Marshall', 'May']\n",
      "after ['Anne', 'Jane', 'Helen', 'Thomas']\n",
      "11\n"
     ]
    }
   ],
   "source": [
    "names = ['aNNE', 'JaNe', 'willIAM', 'WanDA', 'WeSt', 'HELEN', 'tHoMaS', 'HENrY', 'John', 'Marshall', 'May']\n",
    "formatted_names = []\n",
    "check_count = 0\n",
    "\n",
    "for name in names:\n",
    "    if len(formatted_names) < 4:\n",
    "        check_count += 1\n",
    "        if not (name.startswith('w') or name.startswith('W')):\n",
    "            check_count += 1\n",
    "            formatted_names.append(name.title())\n",
    "            \n",
    "\n",
    "print('before', names)\n",
    "print('after', formatted_names)        \n",
    "print(check_count)"
   ]
  },
  {
   "cell_type": "code",
   "execution_count": 7,
   "metadata": {},
   "outputs": [
    {
     "name": "stdout",
     "output_type": "stream",
     "text": [
      "Another slice eaten!\n",
      "Now eaten 1 slices!\n",
      "Another slice eaten!\n",
      "Now eaten 2 slices!\n",
      "Another slice eaten!\n",
      "Now eaten 3 slices!\n",
      "Another slice eaten!\n",
      "Now eaten 4 slices!\n",
      "Another slice eaten!\n",
      "Now eaten 5 slices!\n",
      "Another slice eaten!\n",
      "Now eaten 6 slices!\n"
     ]
    }
   ],
   "source": [
    "slice_of_pie = 6\n",
    "slices_eaten = 0\n",
    "\n",
    "while slices_eaten < slice_of_pie:\n",
    "    print('Another slice eaten!')\n",
    "    slices_eaten += 1\n",
    "    print('Now eaten {} slices!'.format(slices_eaten))\n"
   ]
  },
  {
   "cell_type": "markdown",
   "metadata": {},
   "source": [
    "Remmaing number of seconds after cooking pancakes"
   ]
  },
  {
   "cell_type": "code",
   "execution_count": 16,
   "metadata": {},
   "outputs": [
    {
     "name": "stdout",
     "output_type": "stream",
     "text": [
      "Time remaining: 1123 seconds\n"
     ]
    }
   ],
   "source": [
    "time_for_breakfast = 1468  # in seconds\n",
    "number_of_cooked_pancakes = 0\n",
    "\n",
    "while number_of_cooked_pancakes < 5:\n",
    "    # Cook one pancake\n",
    "    time_for_breakfast -= 27  # Cook one side\n",
    "    time_for_breakfast -= 5   # Flip the pancake\n",
    "    time_for_breakfast -= 27  # Cook the other side\n",
    "    time_for_breakfast -= 5   # Flip the pancake\n",
    "    time_for_breakfast -= 5   # Remove the pancake from the pan\n",
    "\n",
    "    number_of_cooked_pancakes += 1\n",
    "\n",
    "print('Time remaining:', time_for_breakfast, 'seconds')\n"
   ]
  },
  {
   "cell_type": "markdown",
   "metadata": {},
   "source": [
    " Finding those with even numbers that ate in the range of 1-30 using a for loop"
   ]
  },
  {
   "cell_type": "code",
   "execution_count": 17,
   "metadata": {},
   "outputs": [
    {
     "name": "stdout",
     "output_type": "stream",
     "text": [
      "Fed patrons: [0, 2, 4, 6, 8, 10, 12, 14, 16, 18, 20, 22, 24, 26, 28]\n",
      "Remaining patrons: [1, 3, 5, 7, 9, 11, 13, 15, 17, 19, 21, 23, 25, 27, 29]\n"
     ]
    }
   ],
   "source": [
    "line_of_hungry_patrons = list(range(0, 30))\n",
    "fed_patrons = []\n",
    "\n",
    "for patron in line_of_hungry_patrons[:]:\n",
    "    if patron % 2 == 0:\n",
    "        fed_patrons.append(patron)\n",
    "        line_of_hungry_patrons.remove(patron)\n",
    "        if len(fed_patrons) == 15:\n",
    "            break\n",
    "\n",
    "print(\"Fed patrons:\", fed_patrons)\n",
    "print(\"Remaining patrons:\", line_of_hungry_patrons)"
   ]
  },
  {
   "cell_type": "markdown",
   "metadata": {},
   "source": [
    "Find the even numbers using a while loop"
   ]
  },
  {
   "cell_type": "code",
   "execution_count": 19,
   "metadata": {},
   "outputs": [
    {
     "name": "stdout",
     "output_type": "stream",
     "text": [
      "Fed patrons: [0, 2, 4, 6, 8, 10, 12, 14, 16, 18, 20, 22, 24, 26, 28]\n",
      "Remaining patrons: [1, 3, 5, 7, 9, 11, 13, 15, 17, 19, 21, 23, 25, 27, 29]\n"
     ]
    }
   ],
   "source": [
    "line_of_hungry_patrons = list(range(0, 30))\n",
    "fed_patrons = []\n",
    "\n",
    "index = 0\n",
    "while index < len(line_of_hungry_patrons):\n",
    "    patron = line_of_hungry_patrons[index]\n",
    "    if patron % 2 == 0:\n",
    "        fed_patrons.append(patron)\n",
    "        line_of_hungry_patrons.pop(index)\n",
    "    else:\n",
    "        index +=1\n",
    "print(\"Fed patrons:\", fed_patrons)\n",
    "print(\"Remaining patrons:\", line_of_hungry_patrons)"
   ]
  },
  {
   "cell_type": "code",
   "execution_count": 20,
   "metadata": {},
   "outputs": [],
   "source": [
    "people = [\n",
    "    {'name': \"Daniel\", 'age': 29, 'job': \"Engineer\", 'pet': \"Cat\", 'pet_name': \"Gato\"}, \n",
    "    {'name': \"Katie\", 'age': 30, 'job': \"Teacher\", 'pet': \"Dog\", 'pet_name': \"Frank\"},\n",
    "    {'name': \"Owen\", 'age': 26, 'job': \"Sales person\", 'pet': \"Cat\", 'pet_name': \"Cosmo\"},\n",
    "    {'name': \"Josh\", 'age': 22, 'job': \"Student\", 'pet': \"Cat\", 'pet_name': \"Chat\"},\n",
    "    {'name': \"Estelle\", 'age': 35, 'job': \"French Diplomat\", 'pet': \"Dog\", 'pet_name': \"Gabby\"},\n",
    "    {'name': \"Gustav\", 'age': 24, 'job': \"Brewer\", 'pet': \"Dog\", 'pet_name': \"Helen\"}\n",
    "]"
   ]
  },
  {
   "cell_type": "markdown",
   "metadata": {},
   "source": [
    "Use a for loop to find the first person in the list of people that has a dog as their pet. The iteration count shouldn't exceed 2"
   ]
  },
  {
   "cell_type": "code",
   "execution_count": 33,
   "metadata": {},
   "outputs": [
    {
     "name": "stdout",
     "output_type": "stream",
     "text": [
      "{'name': 'Katie', 'age': 30, 'job': 'Teacher', 'pet': 'Dog', 'pet_name': 'Frank'}\n"
     ]
    }
   ],
   "source": [
    "first_dog_person = None\n",
    "iteration_count = 0\n",
    "for person in people:\n",
    "    iteration_count += 1\n",
    "    if person['pet'] == 'Dog':\n",
    "        print(person)\n",
    "        break\n",
    "        print( \"{person} has a dog! Had to check {number} of records to find a dog owner.\"\n",
    ")\n",
    "    if iteration_count >= 2:\n",
    "        break\n",
    "\n"
   ]
  },
  {
   "cell_type": "markdown",
   "metadata": {},
   "source": [
    "Now, use a for loop to create a list of all the cat owners who are under the age of 28."
   ]
  },
  {
   "cell_type": "code",
   "execution_count": 34,
   "metadata": {},
   "outputs": [
    {
     "name": "stdout",
     "output_type": "stream",
     "text": [
      "{'name': 'Owen', 'age': 26, 'job': 'Sales person', 'pet': 'Cat', 'pet_name': 'Cosmo'}\n",
      "{'name': 'Josh', 'age': 22, 'job': 'Student', 'pet': 'Cat', 'pet_name': 'Chat'}\n"
     ]
    }
   ],
   "source": [
    "cat_owners = None\n",
    "\n",
    "for person in people:\n",
    "    if person['pet'] == 'Cat' and person['age'] < 28:\n",
    "        print(person)"
   ]
  },
  {
   "cell_type": "markdown",
   "metadata": {},
   "source": [
    "Use a for loop to find the first person who is above 29 years old. Use a print statement to state their name and how old they are."
   ]
  },
  {
   "cell_type": "code",
   "execution_count": 36,
   "metadata": {},
   "outputs": [
    {
     "name": "stdout",
     "output_type": "stream",
     "text": [
      "{'name': 'Katie', 'age': 30, 'job': 'Teacher', 'pet': 'Dog', 'pet_name': 'Frank'}\n"
     ]
    }
   ],
   "source": [
    "thirty_something_yr_old = None\n",
    "\n",
    "for person in people:\n",
    "    if person['age'] > 29:\n",
    "        print(person)\n",
    "        break"
   ]
  },
  {
   "cell_type": "markdown",
   "metadata": {},
   "source": [
    "Use a for loop to create a list of people's names and another list of pet names for all the dog owners."
   ]
  },
  {
   "cell_type": "code",
   "execution_count": 39,
   "metadata": {},
   "outputs": [
    {
     "name": "stdout",
     "output_type": "stream",
     "text": [
      "Dog owner name: ['Katie', 'Estelle', 'Gustav']\n",
      "Dog name: ['Frank', 'Gabby', 'Helen']\n"
     ]
    }
   ],
   "source": [
    "dog_owner_names = []\n",
    "dog_names = []\n",
    "\n",
    "for person in people:\n",
    "    if person['pet'] == 'Dog':\n",
    "        dog_owner_names.append(person['name'])\n",
    "        dog_names.append(person['pet_name'])\n",
    "print(\"Dog owner name:\", dog_owner_names)\n",
    "print(\"Dog name:\", dog_names)"
   ]
  },
  {
   "cell_type": "markdown",
   "metadata": {},
   "source": [
    "Leveling up\n"
   ]
  },
  {
   "cell_type": "code",
   "execution_count": 44,
   "metadata": {},
   "outputs": [
    {
     "name": "stdout",
     "output_type": "stream",
     "text": [
      "[11, 13, 15, 17, 19, 21, 23, 25, 27, 29, 31, 33, 35, 37, 39, 41, 43, 45, 47, 49, 51, 53, 55, 57, 59, 61, 63, 65, 67, 69, 71, 73, 75, 77, 79]\n"
     ]
    }
   ],
   "source": [
    "list_of_numbers = list(range(0, 100))\n",
    "list_of_odd_numbers_plus_10 = []\n",
    "\n",
    "for num in list_of_numbers:\n",
    "    if len(list_of_odd_numbers_plus_10) >= 35:\n",
    "        break\n",
    "    if num % 2 != 0:\n",
    "        list_of_odd_numbers_plus_10.append(num + 10)\n",
    "    else:\n",
    "        continue\n",
    "print(list_of_odd_numbers_plus_10)"
   ]
  }
 ],
 "metadata": {
  "kernelspec": {
   "display_name": "Python (learn-env)",
   "language": "python",
   "name": "learn-env"
  },
  "language_info": {
   "codemirror_mode": {
    "name": "ipython",
    "version": 3
   },
   "file_extension": ".py",
   "mimetype": "text/x-python",
   "name": "python",
   "nbconvert_exporter": "python",
   "pygments_lexer": "ipython3",
   "version": "3.8.5"
  }
 },
 "nbformat": 4,
 "nbformat_minor": 2
}
