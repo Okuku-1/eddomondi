{
 "cells": [
  {
   "cell_type": "markdown",
   "metadata": {},
   "source": [
    "Project Macbeth"
   ]
  },
  {
   "cell_type": "code",
   "execution_count": 1,
   "metadata": {},
   "outputs": [],
   "source": [
    "import numpy as np\n",
    "import matplotlib.pyplot as plt\n",
    "import seaborn as sns\n",
    "import requests\n",
    "\n",
    "sns.set_context(\"talk\")\n",
    "sns.set_style(\"whitegrid\")\n",
    "%matplotlib inline"
   ]
  },
  {
   "cell_type": "code",
   "execution_count": 2,
   "metadata": {},
   "outputs": [
    {
     "name": "stdout",
     "output_type": "stream",
     "text": [
      "Data type: <class 'str'>\n",
      "\n",
      "Number of characters: 122436\n",
      "\n",
      "First 500 characters:\n",
      "\n",
      "\n",
      "The Tragedie of Macbeth\n",
      "\n",
      "Actus Primus. Scoena Prima.\n",
      "\n",
      "Thunder and Lightning. Enter three Witches.\n",
      "\n",
      "  1. When shall we three meet againe?\n",
      "In Thunder, Lightning, or in Raine?\n",
      "  2. When the Hurley-burley's done,\n",
      "When the Battaile's lost, and wonne\n",
      "\n",
      "   3. That will be ere the set of Sunne\n",
      "\n",
      "   1. Where the place?\n",
      "  2. Vpon the Heath\n",
      "\n",
      "   3. There to meet with Macbeth\n",
      "\n",
      "   1. I come, Gray-Malkin\n",
      "\n",
      "   All. Padock calls anon: faire is foule, and foule is faire,\n",
      "Houer through the fo\n"
     ]
    }
   ],
   "source": [
    "response = requests.get('https://www.gutenberg.org/cache/epub/2264/pg2264.txt')\n",
    "full_text = response.text\n",
    "\n",
    "# The beginning describes the source/copyright, it isn't the actual text\n",
    "# of the play until the 4863rd character\n",
    "macbeth = full_text[4863:]\n",
    "\n",
    "# Print string summary\n",
    "print(\"Data type:\", type(macbeth))\n",
    "print()\n",
    "print(\"Number of characters:\", len(macbeth))\n",
    "print()\n",
    "print(\"First 500 characters:\")\n",
    "print(macbeth[:500])"
   ]
  },
  {
   "cell_type": "markdown",
   "metadata": {},
   "source": [
    "Word Count Summary"
   ]
  },
  {
   "cell_type": "code",
   "execution_count": 3,
   "metadata": {},
   "outputs": [
    {
     "name": "stdout",
     "output_type": "stream",
     "text": [
      "macbeth containing 20641 words\n",
      "Here are same examples: ['Enter', 'three', 'Witches.', '1.', 'When', 'shall', 'we', 'three', 'meet', 'againe?']\n"
     ]
    }
   ],
   "source": [
    "word_raw = macbeth.split()\n",
    "word_count = len(word_raw)\n",
    "\n",
    "print(\"macbeth containing {} words\".format(word_count))\n",
    "print(\"Here are same examples:\", word_raw[11:21])"
   ]
  },
  {
   "cell_type": "markdown",
   "metadata": {},
   "source": [
    "Unique word count"
   ]
  },
  {
   "cell_type": "code",
   "execution_count": 6,
   "metadata": {},
   "outputs": [
    {
     "name": "stdout",
     "output_type": "stream",
     "text": [
      "Cleaned word example: ['enter', 'three', 'witches', '1', 'when', 'shall', 'we', 'three', 'meet', 'againe']\n"
     ]
    }
   ],
   "source": [
    "import string\n",
    "punctuation = string.punctuation\n",
    "word_cleaned = []\n",
    "\n",
    "for word in word_raw:\n",
    "    word = word.strip(punctuation)\n",
    "    word = word.lower()\n",
    "    word_cleaned.append(word)\n",
    "\n",
    "print(\"Cleaned word example:\", word_cleaned[11:21])"
   ]
  },
  {
   "cell_type": "markdown",
   "metadata": {},
   "source": [
    "Now the unique word counts"
   ]
  },
  {
   "cell_type": "code",
   "execution_count": 9,
   "metadata": {},
   "outputs": [
    {
     "name": "stdout",
     "output_type": "stream",
     "text": [
      "macbeth contains 4102 unique words\n"
     ]
    }
   ],
   "source": [
    "#we use set() to only include unique words\n",
    "unique_word_count = len(set(word_cleaned))\n",
    "\n",
    "print(\"macbeth contains {} unique words\".format(unique_word_count))"
   ]
  },
  {
   "cell_type": "markdown",
   "metadata": {},
   "source": [
    "Frequency Table"
   ]
  },
  {
   "cell_type": "code",
   "execution_count": 10,
   "metadata": {},
   "outputs": [
    {
     "name": "stdout",
     "output_type": "stream",
     "text": [
      "<class 'dict'>\n",
      "4102\n"
     ]
    }
   ],
   "source": [
    "word_counts = {}\n",
    "\n",
    "for word in word_cleaned:\n",
    "    if word not in word_counts:\n",
    "        word_counts[word] = 1\n",
    "    else:\n",
    "        word_counts[word] +=1\n",
    "\n",
    "print(type(word_counts))\n",
    "print(len(word_counts))\n"
   ]
  },
  {
   "cell_type": "code",
   "execution_count": 14,
   "metadata": {},
   "outputs": [
    {
     "name": "stdout",
     "output_type": "stream",
     "text": [
      "823\n",
      "1\n",
      "The most frequent word in Macbeth is 'the', which appears 823 times\n",
      "The least frequent word in Macbeth is 'hear', which appears 1 times\n"
     ]
    }
   ],
   "source": [
    "max_frequency = max(word_counts.values())\n",
    "min_frequency = min(word_counts.values())\n",
    "\n",
    "print(max_frequency)\n",
    "print(min_frequency)\n",
    "\n",
    "most_frequent_word = None\n",
    "least_frequent_word = None\n",
    "\n",
    "for word, frequency in word_counts.items():\n",
    "    if frequency == max_frequency:\n",
    "        most_frequent_word = word\n",
    "    elif frequency == min_frequency:\n",
    "        least_frequent_word = word\n",
    "\n",
    "\n",
    "print(\"The most frequent word in Macbeth is '{}', which appears {} times\".format(\n",
    "    most_frequent_word, word_counts[most_frequent_word]\n",
    "))\n",
    "print(\"The least frequent word in Macbeth is '{}', which appears {} times\".format(\n",
    "    least_frequent_word, word_counts[least_frequent_word]\n",
    "))\n"
   ]
  }
 ],
 "metadata": {
  "kernelspec": {
   "display_name": "Python (learn-env)",
   "language": "python",
   "name": "learn-env"
  },
  "language_info": {
   "codemirror_mode": {
    "name": "ipython",
    "version": 3
   },
   "file_extension": ".py",
   "mimetype": "text/x-python",
   "name": "python",
   "nbconvert_exporter": "python",
   "pygments_lexer": "ipython3",
   "version": "3.8.5"
  }
 },
 "nbformat": 4,
 "nbformat_minor": 2
}
