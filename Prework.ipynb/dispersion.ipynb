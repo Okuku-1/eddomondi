{
 "cells": [
  {
   "cell_type": "markdown",
   "metadata": {},
   "source": [
    "Measure of IQR"
   ]
  },
  {
   "cell_type": "code",
   "execution_count": 4,
   "metadata": {},
   "outputs": [],
   "source": [
    "# List of numbers\n",
    "x = [3, 5, 8, 12, 15, 18, 20, 22, 25, 30, 50, 80, 687]"
   ]
  },
  {
   "cell_type": "markdown",
   "metadata": {},
   "source": [
    "1. sort in ascending order"
   ]
  },
  {
   "cell_type": "code",
   "execution_count": 5,
   "metadata": {},
   "outputs": [],
   "source": [
    "x = sorted(x)"
   ]
  },
  {
   "cell_type": "markdown",
   "metadata": {},
   "source": [
    "2. calculating distance between first and last element"
   ]
  },
  {
   "cell_type": "code",
   "execution_count": 6,
   "metadata": {},
   "outputs": [
    {
     "data": {
      "text/plain": [
       "12"
      ]
     },
     "execution_count": 6,
     "metadata": {},
     "output_type": "execute_result"
    }
   ],
   "source": [
    "distance = len(x) -1\n",
    "distance"
   ]
  },
  {
   "cell_type": "markdown",
   "metadata": {},
   "source": [
    "3. Index of 25th percentile"
   ]
  },
  {
   "cell_type": "code",
   "execution_count": 7,
   "metadata": {},
   "outputs": [
    {
     "data": {
      "text/plain": [
       "3.0"
      ]
     },
     "execution_count": 7,
     "metadata": {},
     "output_type": "execute_result"
    }
   ],
   "source": [
    "index_p25 = 0.25 * distance\n",
    "index_p25"
   ]
  },
  {
   "cell_type": "markdown",
   "metadata": {},
   "source": [
    "index of 75th percentile"
   ]
  },
  {
   "cell_type": "code",
   "execution_count": 8,
   "metadata": {},
   "outputs": [
    {
     "data": {
      "text/plain": [
       "9.0"
      ]
     },
     "execution_count": 8,
     "metadata": {},
     "output_type": "execute_result"
    }
   ],
   "source": [
    "index_p75 = 0.75 * distance\n",
    "index_p75"
   ]
  },
  {
   "cell_type": "markdown",
   "metadata": {},
   "source": [
    "4. ditermining the value of the 25th and 75th percentile"
   ]
  },
  {
   "cell_type": "code",
   "execution_count": 9,
   "metadata": {},
   "outputs": [
    {
     "data": {
      "text/plain": [
       "12"
      ]
     },
     "execution_count": 9,
     "metadata": {},
     "output_type": "execute_result"
    }
   ],
   "source": [
    "p25 = x[int(index_p25)]\n",
    "p25"
   ]
  },
  {
   "cell_type": "code",
   "execution_count": 10,
   "metadata": {},
   "outputs": [
    {
     "data": {
      "text/plain": [
       "30"
      ]
     },
     "execution_count": 10,
     "metadata": {},
     "output_type": "execute_result"
    }
   ],
   "source": [
    "p75 = x[int(index_p75)]\n",
    "p75"
   ]
  },
  {
   "cell_type": "markdown",
   "metadata": {},
   "source": [
    "5. Calculating the IQR"
   ]
  },
  {
   "cell_type": "code",
   "execution_count": 11,
   "metadata": {},
   "outputs": [
    {
     "data": {
      "text/plain": [
       "18"
      ]
     },
     "execution_count": 11,
     "metadata": {},
     "output_type": "execute_result"
    }
   ],
   "source": [
    "iqr = p75 - p25\n",
    "iqr"
   ]
  },
  {
   "cell_type": "markdown",
   "metadata": {},
   "source": [
    "alternatively, using numpy to calculate IQR"
   ]
  },
  {
   "cell_type": "code",
   "execution_count": 12,
   "metadata": {},
   "outputs": [
    {
     "data": {
      "text/plain": [
       "18.0"
      ]
     },
     "execution_count": 12,
     "metadata": {},
     "output_type": "execute_result"
    }
   ],
   "source": [
    "import numpy as np\n",
    "\n",
    "np.percentile(x, 75) - np.percentile(x, 25)"
   ]
  },
  {
   "cell_type": "markdown",
   "metadata": {},
   "source": [
    "Visualizing dispersions with boxplots"
   ]
  },
  {
   "cell_type": "code",
   "execution_count": 13,
   "metadata": {},
   "outputs": [
    {
     "data": {
      "image/png": "[encoded data removed]",
      "text/plain": [
       "<Figure size 432x288 with 1 Axes>"
      ]
     },
     "metadata": {},
     "output_type": "display_data"
    }
   ],
   "source": [
    "import matplotlib.pyplot as plt\n",
    "%matplotlib inline\n",
    "\n",
    "plt.style.use('ggplot') # for viewing a grid on plot\n",
    "x = [54, 54, 54, 55, 56, 57, 57, 58, 58, 60, 81]\n",
    "plt.boxplot(x)\n",
    "plt.title (\"Retirement Age Box Plot\")\n",
    "plt.show()"
   ]
  },
  {
   "cell_type": "markdown",
   "metadata": {},
   "source": [
    "Boxplot without outliers for better view of the boxplot"
   ]
  },
  {
   "cell_type": "code",
   "execution_count": 14,
   "metadata": {},
   "outputs": [
    {
     "data": {
      "image/png": "[encoded data removed]",
      "text/plain": [
       "<Figure size 432x288 with 1 Axes>"
      ]
     },
     "metadata": {},
     "output_type": "display_data"
    }
   ],
   "source": [
    "plt.boxplot(x, showfliers=False)\n",
    "plt.title (\"Retirement Age Box Plot - Without Outliers\")\n",
    "plt.show()"
   ]
  },
  {
   "cell_type": "markdown",
   "metadata": {},
   "source": [
    "LAB exercises"
   ]
  },
  {
   "cell_type": "code",
   "execution_count": 15,
   "metadata": {},
   "outputs": [
    {
     "data": {
      "text/plain": [
       "[165,\n",
       " 150,\n",
       " 155,\n",
       " 160,\n",
       " 155,\n",
       " 185,\n",
       " 165,\n",
       " 160,\n",
       " 150,\n",
       " 150,\n",
       " 155,\n",
       " 150,\n",
       " 175,\n",
       " 160,\n",
       " 145,\n",
       " 165,\n",
       " 160,\n",
       " 145,\n",
       " 170,\n",
       " 170,\n",
       " 165,\n",
       " 155,\n",
       " 155,\n",
       " 175,\n",
       " 165,\n",
       " 165,\n",
       " 170,\n",
       " 155,\n",
       " 165,\n",
       " 155,\n",
       " 170,\n",
       " 155,\n",
       " 170,\n",
       " 150,\n",
       " 150,\n",
       " 155,\n",
       " 155,\n",
       " 165,\n",
       " 170,\n",
       " 150,\n",
       " 165,\n",
       " 170,\n",
       " 145,\n",
       " 160,\n",
       " 170,\n",
       " 170,\n",
       " 165,\n",
       " 165,\n",
       " 165,\n",
       " 155,\n",
       " 155,\n",
       " 150,\n",
       " 165,\n",
       " 165,\n",
       " 150,\n",
       " 165,\n",
       " 155,\n",
       " 150,\n",
       " 150,\n",
       " 150,\n",
       " 165,\n",
       " 175,\n",
       " 160,\n",
       " 165,\n",
       " 165,\n",
       " 160,\n",
       " 155,\n",
       " 150,\n",
       " 155,\n",
       " 150,\n",
       " 145,\n",
       " 165,\n",
       " 160,\n",
       " 155,\n",
       " 170,\n",
       " 150,\n",
       " 170,\n",
       " 175,\n",
       " 160,\n",
       " 155,\n",
       " 170,\n",
       " 160,\n",
       " 155,\n",
       " 170,\n",
       " 170,\n",
       " 145,\n",
       " 150,\n",
       " 155,\n",
       " 140,\n",
       " 170,\n",
       " 170,\n",
       " 165,\n",
       " 155,\n",
       " 155,\n",
       " 165,\n",
       " 160,\n",
       " 155,\n",
       " 165,\n",
       " 155,\n",
       " 165,\n",
       " 150,\n",
       " 175,\n",
       " 175,\n",
       " 150,\n",
       " 155,\n",
       " 175,\n",
       " 180,\n",
       " 165,\n",
       " 155,\n",
       " 145,\n",
       " 175,\n",
       " 155,\n",
       " 150,\n",
       " 160,\n",
       " 150,\n",
       " 155,\n",
       " 150,\n",
       " 150,\n",
       " 145,\n",
       " 170,\n",
       " 155,\n",
       " 155,\n",
       " 175,\n",
       " 150,\n",
       " 165,\n",
       " 170,\n",
       " 160,\n",
       " 165,\n",
       " 165,\n",
       " 165,\n",
       " 175,\n",
       " 165,\n",
       " 150,\n",
       " 155,\n",
       " 155,\n",
       " 155,\n",
       " 155,\n",
       " 165,\n",
       " 170,\n",
       " 155,\n",
       " 175,\n",
       " 165,\n",
       " 155,\n",
       " 165,\n",
       " 150,\n",
       " 170,\n",
       " 175,\n",
       " 160,\n",
       " 150,\n",
       " 170,\n",
       " 145,\n",
       " 155,\n",
       " 160,\n",
       " 155,\n",
       " 170,\n",
       " 165,\n",
       " 155,\n",
       " 155,\n",
       " 165,\n",
       " 165,\n",
       " 175,\n",
       " 165,\n",
       " 150,\n",
       " 170,\n",
       " 145,\n",
       " 170,\n",
       " 150,\n",
       " 150,\n",
       " 140,\n",
       " 155,\n",
       " 160,\n",
       " 165,\n",
       " 155,\n",
       " 175,\n",
       " 155,\n",
       " 175,\n",
       " 175,\n",
       " 175,\n",
       " 170,\n",
       " 170,\n",
       " 170,\n",
       " 160,\n",
       " 150,\n",
       " 170,\n",
       " 150,\n",
       " 180,\n",
       " 160,\n",
       " 160,\n",
       " 170,\n",
       " 140,\n",
       " 170,\n",
       " 160,\n",
       " 160,\n",
       " 170,\n",
       " 150,\n",
       " 165,\n",
       " 150,\n",
       " 165,\n",
       " 160,\n",
       " 160,\n",
       " 175,\n",
       " 155,\n",
       " 150,\n",
       " 150,\n",
       " 180,\n",
       " 160,\n",
       " 150,\n",
       " 160,\n",
       " 150,\n",
       " 150,\n",
       " 180,\n",
       " 165,\n",
       " 170,\n",
       " 175,\n",
       " 165,\n",
       " 165,\n",
       " 165,\n",
       " 165,\n",
       " 170,\n",
       " 165,\n",
       " 170,\n",
       " 155,\n",
       " 165,\n",
       " 175,\n",
       " 175,\n",
       " 160,\n",
       " 170,\n",
       " 155,\n",
       " 145,\n",
       " 160,\n",
       " 155,\n",
       " 175,\n",
       " 155,\n",
       " 160,\n",
       " 175,\n",
       " 150,\n",
       " 150,\n",
       " 175,\n",
       " 165,\n",
       " 165,\n",
       " 165,\n",
       " 155,\n",
       " 145,\n",
       " 175,\n",
       " 150,\n",
       " 175,\n",
       " 155,\n",
       " 175,\n",
       " 165,\n",
       " 170,\n",
       " 170,\n",
       " 155,\n",
       " 160,\n",
       " 160,\n",
       " 175,\n",
       " 155,\n",
       " 160,\n",
       " 175,\n",
       " 180,\n",
       " 155,\n",
       " 155,\n",
       " 170,\n",
       " 170,\n",
       " 150,\n",
       " 155,\n",
       " 170,\n",
       " 165,\n",
       " 160,\n",
       " 150,\n",
       " 170,\n",
       " 160,\n",
       " 170,\n",
       " 145,\n",
       " 175,\n",
       " 155,\n",
       " 155,\n",
       " 155,\n",
       " 145,\n",
       " 160,\n",
       " 160,\n",
       " 165,\n",
       " 140,\n",
       " 155,\n",
       " 145,\n",
       " 155,\n",
       " 150,\n",
       " 155,\n",
       " 145,\n",
       " 170,\n",
       " 180,\n",
       " 160,\n",
       " 155,\n",
       " 160,\n",
       " 160,\n",
       " 175,\n",
       " 160,\n",
       " 175,\n",
       " 155,\n",
       " 165,\n",
       " 170,\n",
       " 160,\n",
       " 155,\n",
       " 155,\n",
       " 165,\n",
       " 165,\n",
       " 155,\n",
       " 170,\n",
       " 155,\n",
       " 155,\n",
       " 155,\n",
       " 160,\n",
       " 160,\n",
       " 155,\n",
       " 170,\n",
       " 165,\n",
       " 140,\n",
       " 165,\n",
       " 180,\n",
       " 170,\n",
       " 165,\n",
       " 155,\n",
       " 150,\n",
       " 165,\n",
       " 145,\n",
       " 150,\n",
       " 170,\n",
       " 155,\n",
       " 170,\n",
       " 175,\n",
       " 165,\n",
       " 155,\n",
       " 175,\n",
       " 165,\n",
       " 170,\n",
       " 165,\n",
       " 170,\n",
       " 160,\n",
       " 170,\n",
       " 155,\n",
       " 160,\n",
       " 165,\n",
       " 190,\n",
       " 170,\n",
       " 160,\n",
       " 155,\n",
       " 145,\n",
       " 165,\n",
       " 145,\n",
       " 150,\n",
       " 155,\n",
       " 175,\n",
       " 155,\n",
       " 160,\n",
       " 155,\n",
       " 150,\n",
       " 160,\n",
       " 150,\n",
       " 160,\n",
       " 160,\n",
       " 165,\n",
       " 170,\n",
       " 165,\n",
       " 170,\n",
       " 155,\n",
       " 145,\n",
       " 160,\n",
       " 155,\n",
       " 170,\n",
       " 160,\n",
       " 160,\n",
       " 170,\n",
       " 150,\n",
       " 155,\n",
       " 170,\n",
       " 155,\n",
       " 175,\n",
       " 160,\n",
       " 155,\n",
       " 165,\n",
       " 160,\n",
       " 170,\n",
       " 165,\n",
       " 150,\n",
       " 155,\n",
       " 165,\n",
       " 160,\n",
       " 175,\n",
       " 165,\n",
       " 155,\n",
       " 155,\n",
       " 155,\n",
       " 165,\n",
       " 165,\n",
       " 160,\n",
       " 170,\n",
       " 165,\n",
       " 165,\n",
       " 160,\n",
       " 165,\n",
       " 160,\n",
       " 155,\n",
       " 165,\n",
       " 155,\n",
       " 145,\n",
       " 160,\n",
       " 160,\n",
       " 160,\n",
       " 160,\n",
       " 165,\n",
       " 165,\n",
       " 150,\n",
       " 160,\n",
       " 150,\n",
       " 175,\n",
       " 160,\n",
       " 165,\n",
       " 180,\n",
       " 175,\n",
       " 180,\n",
       " 155,\n",
       " 160,\n",
       " 155,\n",
       " 150,\n",
       " 160,\n",
       " 135,\n",
       " 150,\n",
       " 160,\n",
       " 150,\n",
       " 180,\n",
       " 160,\n",
       " 155,\n",
       " 155,\n",
       " 155,\n",
       " 150,\n",
       " 165,\n",
       " 160,\n",
       " 165,\n",
       " 135,\n",
       " 155,\n",
       " 155,\n",
       " 170,\n",
       " 160,\n",
       " 165,\n",
       " 165,\n",
       " 165,\n",
       " 160,\n",
       " 150,\n",
       " 150,\n",
       " 175,\n",
       " 155,\n",
       " 155,\n",
       " 150,\n",
       " 170,\n",
       " 160,\n",
       " 170,\n",
       " 160,\n",
       " 165,\n",
       " 165,\n",
       " 160,\n",
       " 155,\n",
       " 170,\n",
       " 175,\n",
       " 160,\n",
       " 150,\n",
       " 165,\n",
       " 170,\n",
       " 170,\n",
       " 165,\n",
       " 160,\n",
       " 165,\n",
       " 155,\n",
       " 165,\n",
       " 155,\n",
       " 165,\n",
       " 170,\n",
       " 170,\n",
       " 165,\n",
       " 160,\n",
       " 170,\n",
       " 180,\n",
       " 150,\n",
       " 155,\n",
       " 170,\n",
       " 150,\n",
       " 155,\n",
       " 170,\n",
       " 150,\n",
       " 165,\n",
       " 155,\n",
       " 170,\n",
       " 175,\n",
       " 165,\n",
       " 155,\n",
       " 185,\n",
       " 165,\n",
       " 175,\n",
       " 165,\n",
       " 155,\n",
       " 165,\n",
       " 165,\n",
       " 150,\n",
       " 150,\n",
       " 170,\n",
       " 175,\n",
       " 150,\n",
       " 155,\n",
       " 165,\n",
       " 170,\n",
       " 160,\n",
       " 160,\n",
       " 175,\n",
       " 155,\n",
       " 170,\n",
       " 150,\n",
       " 155,\n",
       " 155,\n",
       " 140,\n",
       " 160,\n",
       " 155,\n",
       " 145,\n",
       " 140,\n",
       " 155,\n",
       " 165,\n",
       " 155,\n",
       " 175,\n",
       " 175,\n",
       " 165,\n",
       " 165,\n",
       " 170,\n",
       " 160,\n",
       " 170,\n",
       " 155,\n",
       " 160,\n",
       " 165,\n",
       " 150,\n",
       " 150,\n",
       " 165,\n",
       " 155,\n",
       " 165,\n",
       " 155,\n",
       " 165,\n",
       " 165,\n",
       " 165,\n",
       " 170,\n",
       " 170,\n",
       " 170,\n",
       " 170,\n",
       " 155,\n",
       " 155,\n",
       " 165,\n",
       " 170,\n",
       " 160,\n",
       " 175,\n",
       " 160,\n",
       " 165,\n",
       " 155,\n",
       " 180,\n",
       " 155,\n",
       " 165,\n",
       " 155,\n",
       " 165,\n",
       " 185,\n",
       " 165,\n",
       " 155,\n",
       " 160,\n",
       " 160,\n",
       " 155,\n",
       " 160,\n",
       " 170,\n",
       " 170,\n",
       " 150,\n",
       " 155,\n",
       " 155,\n",
       " 170,\n",
       " 160,\n",
       " 155,\n",
       " 160,\n",
       " 155,\n",
       " 150,\n",
       " 150,\n",
       " 160,\n",
       " 155,\n",
       " 160,\n",
       " 150,\n",
       " 150,\n",
       " 150,\n",
       " 160,\n",
       " 150,\n",
       " 155,\n",
       " 160,\n",
       " 170,\n",
       " 160,\n",
       " 160,\n",
       " 165,\n",
       " 160,\n",
       " 160,\n",
       " 165,\n",
       " 155,\n",
       " 150,\n",
       " 150,\n",
       " 170,\n",
       " 145,\n",
       " 175,\n",
       " 165,\n",
       " 155,\n",
       " 165,\n",
       " 155,\n",
       " 150,\n",
       " 175,\n",
       " 170,\n",
       " 160,\n",
       " 170,\n",
       " 145,\n",
       " 165,\n",
       " 160,\n",
       " 155,\n",
       " 170,\n",
       " 165,\n",
       " 150,\n",
       " 150,\n",
       " 155,\n",
       " 160,\n",
       " 145,\n",
       " 170,\n",
       " 160,\n",
       " 160,\n",
       " 145,\n",
       " 150,\n",
       " 155,\n",
       " 170,\n",
       " 165,\n",
       " 160,\n",
       " 150,\n",
       " 170,\n",
       " 170,\n",
       " 170,\n",
       " 165,\n",
       " 170,\n",
       " 160,\n",
       " 170,\n",
       " 165,\n",
       " 145,\n",
       " 170,\n",
       " 160,\n",
       " 160,\n",
       " 145,\n",
       " 155,\n",
       " 155,\n",
       " 155,\n",
       " 140,\n",
       " 145,\n",
       " 160,\n",
       " 155,\n",
       " 155,\n",
       " 180,\n",
       " 155,\n",
       " 160,\n",
       " 175,\n",
       " 145,\n",
       " 150,\n",
       " 165,\n",
       " 155,\n",
       " 155,\n",
       " 160,\n",
       " 170,\n",
       " 165,\n",
       " 175,\n",
       " 160,\n",
       " 170,\n",
       " 165,\n",
       " 155,\n",
       " 150,\n",
       " 160,\n",
       " 175,\n",
       " 165,\n",
       " 150,\n",
       " 140,\n",
       " 165,\n",
       " 150,\n",
       " 160,\n",
       " 165,\n",
       " 155,\n",
       " 160,\n",
       " 170,\n",
       " 160,\n",
       " 150,\n",
       " 170,\n",
       " 150,\n",
       " 150,\n",
       " 155,\n",
       " 160,\n",
       " 150,\n",
       " 170,\n",
       " 175,\n",
       " 155,\n",
       " 165,\n",
       " 150,\n",
       " 150,\n",
       " 150,\n",
       " 150,\n",
       " 165,\n",
       " 155,\n",
       " 170,\n",
       " 165,\n",
       " 170,\n",
       " 160,\n",
       " 170,\n",
       " 160,\n",
       " 165,\n",
       " 150,\n",
       " 160,\n",
       " 155,\n",
       " 155,\n",
       " 170,\n",
       " 165,\n",
       " 150,\n",
       " 150,\n",
       " 165,\n",
       " 160,\n",
       " 165,\n",
       " 170,\n",
       " 165,\n",
       " 175,\n",
       " 150,\n",
       " 170,\n",
       " 160,\n",
       " 170,\n",
       " 145,\n",
       " 165,\n",
       " 150,\n",
       " 155,\n",
       " 155,\n",
       " 165,\n",
       " 150,\n",
       " 145,\n",
       " 150,\n",
       " 170,\n",
       " 170,\n",
       " 175,\n",
       " 170,\n",
       " 160,\n",
       " 170,\n",
       " 165,\n",
       " 150,\n",
       " 160,\n",
       " 175,\n",
       " 170,\n",
       " 160,\n",
       " 150,\n",
       " 155,\n",
       " 140,\n",
       " 160,\n",
       " 155,\n",
       " 165,\n",
       " 175,\n",
       " 175,\n",
       " 155,\n",
       " 165,\n",
       " 175,\n",
       " 155,\n",
       " 165,\n",
       " 165,\n",
       " 160,\n",
       " 185,\n",
       " 170,\n",
       " 170,\n",
       " 155,\n",
       " 175,\n",
       " 155,\n",
       " 165,\n",
       " 150,\n",
       " 155,\n",
       " 155,\n",
       " 150,\n",
       " 160,\n",
       " 145,\n",
       " 175,\n",
       " 170,\n",
       " 160,\n",
       " 155,\n",
       " 155,\n",
       " 170,\n",
       " 170,\n",
       " 170,\n",
       " 150,\n",
       " 155,\n",
       " 145,\n",
       " 165,\n",
       " 155,\n",
       " 150,\n",
       " 145,\n",
       " 175,\n",
       " 150,\n",
       " 175,\n",
       " 155,\n",
       " 165,\n",
       " 165,\n",
       " 155,\n",
       " 155,\n",
       " 155,\n",
       " 165,\n",
       " 160,\n",
       " 165,\n",
       " 165,\n",
       " 165,\n",
       " 145,\n",
       " 170,\n",
       " 145,\n",
       " 165,\n",
       " 160,\n",
       " 160,\n",
       " 155,\n",
       " 160,\n",
       " 155,\n",
       " 165,\n",
       " 165,\n",
       " 160,\n",
       " 150,\n",
       " 165,\n",
       " 170,\n",
       " 155,\n",
       " 160,\n",
       " 160,\n",
       " 160,\n",
       " 155,\n",
       " 170,\n",
       " 160,\n",
       " 150,\n",
       " 165,\n",
       " 170,\n",
       " 140,\n",
       " 170,\n",
       " 165,\n",
       " 135,\n",
       " 175,\n",
       " 145,\n",
       " 160,\n",
       " 155,\n",
       " 160,\n",
       " 150,\n",
       " 145,\n",
       " 155,\n",
       " 175,\n",
       " 170,\n",
       " 175,\n",
       " 145,\n",
       " 165,\n",
       " 160,\n",
       " 150,\n",
       " 150,\n",
       " 160,\n",
       " 170,\n",
       " 175,\n",
       " 165,\n",
       " 165,\n",
       " 150,\n",
       " 165,\n",
       " 150,\n",
       " 150,\n",
       " 175,\n",
       " 150,\n",
       " 165,\n",
       " 150,\n",
       " 165,\n",
       " 165,\n",
       " 135,\n",
       " 170,\n",
       " 155,\n",
       " 175,\n",
       " 155,\n",
       " 155,\n",
       " 170,\n",
       " 170,\n",
       " 150,\n",
       " 160,\n",
       " 160,\n",
       " 160,\n",
       " 160,\n",
       " 155,\n",
       " 155,\n",
       " 155,\n",
       " 150,\n",
       " 170,\n",
       " 150,\n",
       " 165,\n",
       " 150,\n",
       " 175,\n",
       " 160,\n",
       " 160,\n",
       " 180,\n",
       " 170,\n",
       " 150,\n",
       " 165,\n",
       " 170,\n",
       " 160,\n",
       " 155,\n",
       " 180,\n",
       " 145,\n",
       " 150,\n",
       " 180,\n",
       " 160,\n",
       " 175,\n",
       " 180,\n",
       " 145,\n",
       " 155,\n",
       " 170,\n",
       " 150,\n",
       " 175,\n",
       " 140,\n",
       " 170,\n",
       " 155,\n",
       " 165,\n",
       " 160,\n",
       " 150,\n",
       " 155,\n",
       " 170,\n",
       " 160,\n",
       " 170,\n",
       " 165,\n",
       " 170,\n",
       " 170,\n",
       " 170,\n",
       " 170,\n",
       " 145,\n",
       " 170,\n",
       " 155,\n",
       " 170,\n",
       " 160,\n",
       " 165,\n",
       " 170,\n",
       " 150,\n",
       " 170,\n",
       " 165,\n",
       " 150,\n",
       " 160,\n",
       " 155,\n",
       " 160,\n",
       " 165,\n",
       " 165,\n",
       " 165,\n",
       " 155,\n",
       " 165,\n",
       " 155,\n",
       " 170,\n",
       " 160,\n",
       " 160,\n",
       " 175,\n",
       " 170,\n",
       " 180,\n",
       " 150,\n",
       " 160,\n",
       " 155,\n",
       " 165,\n",
       " 175,\n",
       " 155,\n",
       " 160,\n",
       " 160,\n",
       " 160,\n",
       " 155,\n",
       " 145,\n",
       " 165,\n",
       " 150,\n",
       " 165,\n",
       " 160,\n",
       " 170,\n",
       " 150,\n",
       " 155,\n",
       " 145,\n",
       " 160,\n",
       " 160,\n",
       " 170,\n",
       " 150,\n",
       " 160,\n",
       " 165,\n",
       " 145,\n",
       " 160,\n",
       " 155,\n",
       " 165,\n",
       " 170,\n",
       " 150,\n",
       " 175,\n",
       " 165,\n",
       " 165,\n",
       " 160,\n",
       " 170,\n",
       " 160,\n",
       " 155,\n",
       " 170,\n",
       " 170,\n",
       " 170,\n",
       " 150,\n",
       " 160,\n",
       " 150,\n",
       " 145,\n",
       " 160,\n",
       " 165,\n",
       " 165,\n",
       " 155,\n",
       " 150,\n",
       " 160,\n",
       " ...]"
      ]
     },
     "execution_count": 15,
     "metadata": {},
     "output_type": "execute_result"
    }
   ],
   "source": [
    "import pandas as pd\n",
    "csv_file_path = 'C:/Users/OKUKU/Desktop/nhis.csv'\n",
    "df = pd.read_csv(csv_file_path)\n",
    "height = list(df['HEIGHT'])\n",
    "height"
   ]
  },
  {
   "cell_type": "markdown",
   "metadata": {},
   "source": [
    "Display number of items in height"
   ]
  },
  {
   "cell_type": "code",
   "execution_count": 16,
   "metadata": {},
   "outputs": [
    {
     "data": {
      "text/plain": [
       "1000000"
      ]
     },
     "execution_count": 16,
     "metadata": {},
     "output_type": "execute_result"
    }
   ],
   "source": [
    "num_records = len(height)\n",
    "num_records"
   ]
  },
  {
   "cell_type": "markdown",
   "metadata": {},
   "source": [
    "First 10 records"
   ]
  },
  {
   "cell_type": "code",
   "execution_count": 17,
   "metadata": {},
   "outputs": [
    {
     "data": {
      "text/plain": [
       "[165, 150, 155, 160, 155, 185, 165, 160, 150, 150]"
      ]
     },
     "execution_count": 17,
     "metadata": {},
     "output_type": "execute_result"
    }
   ],
   "source": [
    "first_10 = height[:10]\n",
    "first_10"
   ]
  },
  {
   "cell_type": "markdown",
   "metadata": {},
   "source": [
    "Creating a histogram of heights"
   ]
  },
  {
   "cell_type": "code",
   "execution_count": 18,
   "metadata": {},
   "outputs": [
    {
     "data": {
      "text/plain": [
       "Text(0.5, 1.0, 'Heights')"
      ]
     },
     "execution_count": 18,
     "metadata": {},
     "output_type": "execute_result"
    },
    {
     "data": {
      "image/png": "[encoded data removed]",
      "text/plain": [
       "<Figure size 432x288 with 1 Axes>"
      ]
     },
     "metadata": {
      "needs_background": "light"
     },
     "output_type": "display_data"
    }
   ],
   "source": [
    "import matplotlib.pyplot as plt\n",
    "%matplotlib inline\n",
    "\n",
    "bins = 8\n",
    "plt.hist(height, bins= bins, edgecolor = 'black', color= '#00C8AD')\n",
    "plt.title(\"Heights\")"
   ]
  },
  {
   "cell_type": "markdown",
   "metadata": {},
   "source": [
    "Calculating measures of central tendency"
   ]
  },
  {
   "cell_type": "code",
   "execution_count": 19,
   "metadata": {},
   "outputs": [],
   "source": [
    "def get_mean(data):\n",
    "    total = sum(data)\n",
    "    length = len(data)\n",
    "    mean = total / length\n",
    "    return round(mean, 2)"
   ]
  },
  {
   "cell_type": "code",
   "execution_count": 20,
   "metadata": {},
   "outputs": [
    {
     "name": "stdout",
     "output_type": "stream",
     "text": [
      "3.0\n",
      "2.5\n"
     ]
    }
   ],
   "source": [
    "test1 = [5,4,1,3,2]\n",
    "test2 = [4,2,3,1]\n",
    "\n",
    "print(get_mean(test1))\n",
    "print(get_mean(test2))"
   ]
  },
  {
   "cell_type": "markdown",
   "metadata": {},
   "source": [
    "Mean of heights"
   ]
  },
  {
   "cell_type": "code",
   "execution_count": 21,
   "metadata": {},
   "outputs": [
    {
     "name": "stdout",
     "output_type": "stream",
     "text": [
      "Sample mean: 160.96\n"
     ]
    }
   ],
   "source": [
    "mean = get_mean(height)\n",
    "\n",
    "print(\"Sample mean:\", mean)"
   ]
  },
  {
   "cell_type": "markdown",
   "metadata": {},
   "source": [
    "filter new list for values less than 170"
   ]
  },
  {
   "cell_type": "code",
   "execution_count": 22,
   "metadata": {},
   "outputs": [],
   "source": [
    "def filter_height_outliers(data):\n",
    "    filtered_data = []\n",
    "    for filtered in data:\n",
    "        if filtered <= 170:\n",
    "            filtered_data.append(filtered)\n",
    "    return filtered_data"
   ]
  },
  {
   "cell_type": "code",
   "execution_count": 23,
   "metadata": {},
   "outputs": [
    {
     "data": {
      "text/plain": [
       "[60, 70, 80, 90]"
      ]
     },
     "execution_count": 23,
     "metadata": {},
     "output_type": "execute_result"
    }
   ],
   "source": [
    "test = [60,70,80,90]\n",
    "filter_height_outliers(test)"
   ]
  },
  {
   "cell_type": "code",
   "execution_count": 24,
   "metadata": {},
   "outputs": [
    {
     "data": {
      "text/plain": [
       "891640"
      ]
     },
     "execution_count": 24,
     "metadata": {},
     "output_type": "execute_result"
    }
   ],
   "source": [
    "filtered_height = filter_height_outliers(height)\n",
    "len(filtered_height)\n"
   ]
  },
  {
   "cell_type": "markdown",
   "metadata": {},
   "source": [
    "Ploting histogram 2"
   ]
  },
  {
   "cell_type": "code",
   "execution_count": 25,
   "metadata": {},
   "outputs": [
    {
     "data": {
      "text/plain": [
       "Text(0.5, 1.0, 'heights - without outliers')"
      ]
     },
     "execution_count": 25,
     "metadata": {},
     "output_type": "execute_result"
    },
    {
     "data": {
      "image/png": "[encoded data removed]",
      "text/plain": [
       "<Figure size 432x288 with 1 Axes>"
      ]
     },
     "metadata": {
      "needs_background": "light"
     },
     "output_type": "display_data"
    }
   ],
   "source": [
    "plt.hist(height, bins=bins)\n",
    "plt.title(\"heights - without outliers\")"
   ]
  },
  {
   "cell_type": "markdown",
   "metadata": {},
   "source": [
    "New mean with outliers removed"
   ]
  },
  {
   "cell_type": "code",
   "execution_count": 26,
   "metadata": {},
   "outputs": [
    {
     "data": {
      "text/plain": [
       "159.07"
      ]
     },
     "execution_count": 26,
     "metadata": {},
     "output_type": "execute_result"
    }
   ],
   "source": [
    "new_mean = get_mean(filtered_height)\n",
    "new_mean"
   ]
  },
  {
   "cell_type": "markdown",
   "metadata": {},
   "source": [
    "Function for getting median value"
   ]
  },
  {
   "cell_type": "code",
   "execution_count": 27,
   "metadata": {},
   "outputs": [],
   "source": [
    "def get_median(data):\n",
    "    data_sorted = sorted(data)\n",
    "    n = len(data_sorted)\n",
    "\n",
    "    if n % 2 == 1:\n",
    "        middle_index = n // 2 \n",
    "        return data_sorted[middle_index]\n",
    "    else:\n",
    "        middle_index1 = n // 2 - 1\n",
    "        middle_index2 = n // 2 \n",
    "        return (data_sorted[middle_index1] + data_sorted[middle_index2]) / 2"
   ]
  },
  {
   "cell_type": "code",
   "execution_count": 28,
   "metadata": {},
   "outputs": [
    {
     "name": "stdout",
     "output_type": "stream",
     "text": [
      "3\n",
      "2.5\n"
     ]
    }
   ],
   "source": [
    "test5 = [5, 4, 1, 3, 2]\n",
    "test6 = [4, 2, 3, 1]\n",
    "\n",
    "print(get_median(test1))\n",
    "print(get_median(test2))"
   ]
  },
  {
   "cell_type": "code",
   "execution_count": 29,
   "metadata": {},
   "outputs": [
    {
     "data": {
      "text/plain": [
       "160.0"
      ]
     },
     "execution_count": 29,
     "metadata": {},
     "output_type": "execute_result"
    }
   ],
   "source": [
    "get_median(height)"
   ]
  },
  {
   "cell_type": "markdown",
   "metadata": {},
   "source": [
    "Measure of dispersion - lab"
   ]
  },
  {
   "cell_type": "code",
   "execution_count": 30,
   "metadata": {},
   "outputs": [],
   "source": [
    "def get_variance(sample):\n",
    "    sample_mean = get_mean(sample)\n",
    "\n",
    "    sum_of_square = 0\n",
    "    for height in sample:\n",
    "        sum_of_square += (height - sample_mean) **2\n",
    "\n",
    "    variance = sum_of_square / (len(sample) - 1)\n",
    "    return round(variance, 2)"
   ]
  },
  {
   "cell_type": "code",
   "execution_count": 31,
   "metadata": {},
   "outputs": [
    {
     "name": "stdout",
     "output_type": "stream",
     "text": [
      "2.67\n",
      "3.33\n",
      "3.25\n"
     ]
    }
   ],
   "source": [
    "test1 = [1, 2, 3, 5, 5, 4]\n",
    "test2 = [1, 1, 1, 2, 3, 4, 5, 5, 5]\n",
    "print(get_variance(test1))\n",
    "print(get_mean(test1))\n",
    "print(get_variance(test2)) "
   ]
  },
  {
   "cell_type": "code",
   "execution_count": 33,
   "metadata": {},
   "outputs": [
    {
     "data": {
      "text/plain": [
       "84.6"
      ]
     },
     "execution_count": 33,
     "metadata": {},
     "output_type": "execute_result"
    }
   ],
   "source": [
    "variance = get_variance(height)\n",
    "variance"
   ]
  },
  {
   "cell_type": "markdown",
   "metadata": {},
   "source": [
    "Getting the SD"
   ]
  },
  {
   "cell_type": "code",
   "execution_count": 40,
   "metadata": {},
   "outputs": [],
   "source": [
    "from math import sqrt\n",
    "\n",
    "def get_stddev(sample):\n",
    "    variance = get_variance(sample)\n",
    "    stddev = sqrt(variance)\n",
    "    return round(stddev, 2)\n"
   ]
  },
  {
   "cell_type": "code",
   "execution_count": 41,
   "metadata": {},
   "outputs": [
    {
     "data": {
      "text/plain": [
       "84.03"
      ]
     },
     "execution_count": 41,
     "metadata": {},
     "output_type": "execute_result"
    }
   ],
   "source": [
    "test = [120,112,131,211,312,90]\n",
    "\n",
    "get_stddev(test) # 84.03"
   ]
  },
  {
   "cell_type": "code",
   "execution_count": 43,
   "metadata": {},
   "outputs": [
    {
     "data": {
      "text/plain": [
       "9.2"
      ]
     },
     "execution_count": 43,
     "metadata": {},
     "output_type": "execute_result"
    }
   ],
   "source": [
    "standard_deviation = get_stddev(height)\n",
    "standard_deviation"
   ]
  },
  {
   "cell_type": "markdown",
   "metadata": {},
   "source": [
    "Boxplot for the heights"
   ]
  },
  {
   "cell_type": "code",
   "execution_count": 44,
   "metadata": {},
   "outputs": [
    {
     "data": {
      "text/plain": [
       "Text(0.5, 1.0, 'Heights')"
      ]
     },
     "execution_count": 44,
     "metadata": {},
     "output_type": "execute_result"
    },
    {
     "data": {
      "image/png": "[encoded data removed]",
      "text/plain": [
       "<Figure size 432x288 with 1 Axes>"
      ]
     },
     "metadata": {
      "needs_background": "light"
     },
     "output_type": "display_data"
    }
   ],
   "source": [
    "plt.boxplot(height)\n",
    "plt.title(\"Heights\")"
   ]
  },
  {
   "cell_type": "markdown",
   "metadata": {},
   "source": [
    "Simplying the process with numpy"
   ]
  },
  {
   "cell_type": "code",
   "execution_count": 45,
   "metadata": {},
   "outputs": [
    {
     "name": "stdout",
     "output_type": "stream",
     "text": [
      "Mean:\n",
      "160.96 (our version)\n",
      "160.96 (NumPy version)\n",
      "\n",
      "Median:\n"
     ]
    },
    {
     "ename": "NameError",
     "evalue": "name 'median' is not defined",
     "output_type": "error",
     "traceback": [
      "\u001b[1;31m---------------------------------------------------------------------------\u001b[0m",
      "\u001b[1;31mNameError\u001b[0m                                 Traceback (most recent call last)",
      "\u001b[1;32m<ipython-input-45-8b7c4492b573>\u001b[0m in \u001b[0;36m<module>\u001b[1;34m\u001b[0m\n\u001b[0;32m      9\u001b[0m \u001b[0mprint\u001b[0m\u001b[1;33m(\u001b[0m\u001b[1;33m)\u001b[0m\u001b[1;33m\u001b[0m\u001b[1;33m\u001b[0m\u001b[0m\n\u001b[0;32m     10\u001b[0m \u001b[0mprint\u001b[0m\u001b[1;33m(\u001b[0m\u001b[1;34m\"Median:\"\u001b[0m\u001b[1;33m)\u001b[0m\u001b[1;33m\u001b[0m\u001b[1;33m\u001b[0m\u001b[0m\n\u001b[1;32m---> 11\u001b[1;33m \u001b[0mprint\u001b[0m\u001b[1;33m(\u001b[0m\u001b[0mmedian\u001b[0m\u001b[1;33m,\u001b[0m \u001b[1;34m\"(our version)\"\u001b[0m\u001b[1;33m)\u001b[0m\u001b[1;33m\u001b[0m\u001b[1;33m\u001b[0m\u001b[0m\n\u001b[0m\u001b[0;32m     12\u001b[0m \u001b[0mprint\u001b[0m\u001b[1;33m(\u001b[0m\u001b[0mnp\u001b[0m\u001b[1;33m.\u001b[0m\u001b[0mmedian\u001b[0m\u001b[1;33m(\u001b[0m\u001b[0mheight\u001b[0m\u001b[1;33m)\u001b[0m\u001b[1;33m,\u001b[0m \u001b[1;34m\"(NumPy version)\"\u001b[0m\u001b[1;33m)\u001b[0m\u001b[1;33m\u001b[0m\u001b[1;33m\u001b[0m\u001b[0m\n\u001b[0;32m     13\u001b[0m \u001b[0mprint\u001b[0m\u001b[1;33m(\u001b[0m\u001b[1;33m)\u001b[0m\u001b[1;33m\u001b[0m\u001b[1;33m\u001b[0m\u001b[0m\n",
      "\u001b[1;31mNameError\u001b[0m: name 'median' is not defined"
     ]
    }
   ],
   "source": [
    "# Run this cell without changes\n",
    "\n",
    "import numpy as np\n",
    "from scipy import stats\n",
    "\n",
    "print(\"Mean:\")\n",
    "print(mean, \"(our version)\")\n",
    "print(round(np.mean(height), 2), \"(NumPy version)\")\n",
    "print()\n",
    "print(\"Median:\")\n",
    "print(median, \"(our version)\")\n",
    "print(np.median(height), \"(NumPy version)\")\n",
    "print()\n",
    "print(\"Mode:\")\n",
    "print(mode, \"(our version)\")\n",
    "print(stats.mode(height, keepdims=True).mode, \"(SciPy version)\")\n",
    "print()\n",
    "print(\"Variance:\")\n",
    "print(variance, \"(our version)\")\n",
    "print(round(np.var(height, ddof=1), 2), \"(NumPy version)\")\n",
    "print()\n",
    "print(\"Standard Deviation:\")\n",
    "print(standard_deviation, \"(our version)\")\n",
    "print(round(np.std(height, ddof=1), 2), \"(NumPy version)\")"
   ]
  }
 ],
 "metadata": {
  "kernelspec": {
   "display_name": "Python (learn-env)",
   "language": "python",
   "name": "learn-env"
  },
  "language_info": {
   "codemirror_mode": {
    "name": "ipython",
    "version": 3
   },
   "file_extension": ".py",
   "mimetype": "text/x-python",
   "name": "python",
   "nbconvert_exporter": "python",
   "pygments_lexer": "ipython3",
   "version": "3.8.5"
  }
 },
 "nbformat": 4,
 "nbformat_minor": 2
}
