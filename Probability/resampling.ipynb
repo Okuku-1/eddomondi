{
 "cells": [
  {
   "cell_type": "markdown",
   "metadata": {},
   "source": [
    "## Bootstrap Sampling\n",
    "\n",
    "Write a function to perform bootstrap sampling. The function should take in two samples A and B. The two samples need not be the same size. From this, create a universal sample by combining A and B. Then, create a resampled universal sample of the same size using random sampling with replacement. Finally, split this randomly generated universal set into two samples which are the same size as the original samples, A and B. The function should return these resampled samples."
   ]
  },
  {
   "cell_type": "code",
   "execution_count": 1,
   "metadata": {},
   "outputs": [],
   "source": [
    "import numpy as np"
   ]
  },
  {
   "cell_type": "code",
   "execution_count": 2,
   "metadata": {},
   "outputs": [],
   "source": [
    "A = [1,2,3]\n",
    "B = [2,2,5,6]\n",
    "\n",
    "Universal_Set = [1,2,2,2,3,5,6]\n",
    "Resampled_Universal_Set = [6,2,3,2,1,1,2]\n",
    "\n",
    "Resample_A = [6,2,3]\n",
    "Resample_B = [2,1,1,2]"
   ]
  },
  {
   "cell_type": "code",
   "execution_count": 3,
   "metadata": {},
   "outputs": [],
   "source": [
    "import random\n",
    "\n",
    "#function for calculating bootstrap test\n",
    "def bootstrap(A, B):\n",
    "    universal = A + B #combining the two sets\n",
    "    total_size = len(universal) #length of univesal set/size\n",
    "\n",
    "    #generating/resamplinguniversal set with replacement\n",
    "    resampled_universal_set = [random.choice(universal) for _ in range(total_size)]\n",
    "\n",
    "    #split the resampled set into two sets of the same sizes as A and B\n",
    "    resampled_A = resampled_universal_set[:len(A)]\n",
    "    resampled_B = resampled_universal_set[len(B):]\n",
    "\n",
    "    return resampled_A, resampled_B\n"
   ]
  },
  {
   "cell_type": "code",
   "execution_count": 4,
   "metadata": {},
   "outputs": [
    {
     "name": "stdout",
     "output_type": "stream",
     "text": [
      "Resample A [3, 6, 1]\n",
      "ResampleB [2, 3, 2]\n"
     ]
    }
   ],
   "source": [
    "resampled_A, resampled_B = bootstrap(A, B)\n",
    "print(\"Resample A\", resampled_A)\n",
    "print(\"ResampleB\", resampled_B)"
   ]
  },
  {
   "cell_type": "markdown",
   "metadata": {},
   "source": [
    "## Jackknife\n",
    "\n",
    "Write a function that creates additional samples by removing one element at a time. The function should do this for each of the n items in the original sample, returning n samples, each with n-1 members."
   ]
  },
  {
   "cell_type": "code",
   "execution_count": 5,
   "metadata": {},
   "outputs": [],
   "source": [
    "def jack1(data):\n",
    "    \"\"\"This function should take in a list of n observations and return n lists\n",
    "    each with one member (presumably the nth) removed.\"\"\"\n",
    "    jackknife_samples = []\n",
    "\n",
    "    for i in range(len(data)):\n",
    "        jackknife_sample = data[:i] + data[i + 1:] #creating a new list excluding the ith element\n",
    "        jackknife_samples.append(jackknife_sample) #appending the sample to the result \n",
    "\n",
    "        return jackknife_samples"
   ]
  },
  {
   "cell_type": "code",
   "execution_count": 8,
   "metadata": {},
   "outputs": [
    {
     "name": "stdout",
     "output_type": "stream",
     "text": [
      "[[2, 3, 4]]\n"
     ]
    }
   ],
   "source": [
    "data = [1, 2, 3, 4]\n",
    "jackknife_samples = jack1(data)\n",
    "print(jackknife_samples)"
   ]
  },
  {
   "cell_type": "markdown",
   "metadata": {},
   "source": [
    "## Permutation testing"
   ]
  },
  {
   "cell_type": "code",
   "execution_count": 16,
   "metadata": {},
   "outputs": [],
   "source": [
    "\n",
    "import itertools \n",
    "\n",
    "def combT(A, B):\n",
    "    universal_set = A + B # combining the sets\n",
    "    #size of set A and B\n",
    "    size_A = len(A)\n",
    "    size_B = len(B)\n",
    "\n",
    "    # Generate all combinations of `size_A` elements from the universal set\n",
    "    combinations_A = list(itertools.combinations(universal_set, size_A))\n",
    "\n",
    "    # For each combination of A, the remaining elements will form B\n",
    "    all_splits = []\n",
    "\n",
    "    for comb in combinations_A:\n",
    "        # Set A is the combination, and Set B is the remaining elements\n",
    "        remaining_elements = [item for item in universal_set if item not in comb or comb.count(item) < universal_set.count(item)]\n",
    "        all_splits.append((list(comb), remaining_elements))\n",
    "\n",
    "        return all_splits"
   ]
  },
  {
   "cell_type": "code",
   "execution_count": 18,
   "metadata": {},
   "outputs": [
    {
     "name": "stdout",
     "output_type": "stream",
     "text": [
      "([1, 2, 2], [1, 1, 3])\n"
     ]
    }
   ],
   "source": [
    "A = [1, 2, 2]\n",
    "B = [1, 3]\n",
    "\n",
    "splits = combT(A, B)\n",
    "for split in splits:\n",
    "    print(split)"
   ]
  }
 ],
 "metadata": {
  "kernelspec": {
   "display_name": "Python (learn-env)",
   "language": "python",
   "name": "learn-env"
  },
  "language_info": {
   "codemirror_mode": {
    "name": "ipython",
    "version": 3
   },
   "file_extension": ".py",
   "mimetype": "text/x-python",
   "name": "python",
   "nbconvert_exporter": "python",
   "pygments_lexer": "ipython3",
   "version": "3.8.6"
  }
 },
 "nbformat": 4,
 "nbformat_minor": 2
}
