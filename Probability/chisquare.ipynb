{
 "cells": [
  {
   "cell_type": "markdown",
   "metadata": {},
   "source": [
    "## Chi-Square Test\n",
    "#### Objectives\n",
    "You will be able to:\n",
    "\n",
    "- Identify use cases for the chi-square test\n",
    "- Distinguish between chi-square tests for goodness of fit, independence, and homogeneity\n",
    "- Perform a chi-square test and make conclusions about an experiment based on the results"
   ]
  },
  {
   "cell_type": "code",
   "execution_count": 1,
   "metadata": {},
   "outputs": [],
   "source": [
    "import numpy as np\n",
    "import pandas as pd\n",
    "import scipy.stats as stats\n",
    "import matplotlib.pyplot as plt"
   ]
  },
  {
   "cell_type": "markdown",
   "metadata": {},
   "source": [
    "### Comparing t-tests and Chi-Square Tests\n",
    "We'll introduce the chi-square test by comparing and contrasting it with a familiar statistical test: the t-test!\n",
    "\n",
    "#### t-test Refresher\n",
    "The t-test is applicable for continuous variables that can be represented by a probability density function (PDF), which allows us to understand the data in terms of parameters such as the mean and variance. There are several different kinds of t-tests depending on the question being asked, although we have mainly focused on one-sample and two-sample (independent) tests.\n",
    "\n",
    "For example, we might do a one-sample, two-tailed t-test if we have the following (made up) sample of data, and we are trying to determine whether the mean of this data is significantly different from a \n",
    "μ\n",
    "0\n",
    " of 21."
   ]
  },
  {
   "cell_type": "code",
   "execution_count": 2,
   "metadata": {},
   "outputs": [
    {
     "data": {
      "image/png": "[encoded data removed]",
      "text/plain": [
       "<Figure size 432x288 with 1 Axes>"
      ]
     },
     "metadata": {
      "needs_background": "light"
     },
     "output_type": "display_data"
    }
   ],
   "source": [
    "# Generate sample data as a normal continuous random variable\n",
    "sample_data = stats.norm.rvs(loc=20, scale=2, size=50, random_state=5)\n",
    "\n",
    "# Plot data as well as theoretical mean of 21\n",
    "fig, ax = plt.subplots()\n",
    "ax.hist(sample_data, alpha=0.5, label=\"Sample Data\")\n",
    "ax.axvline(sample_data.mean(), linestyle=\"--\", label=r\"Sample Mean $\\mu$\")\n",
    "ax.axvline(21, linestyle=\"--\", color=\"orange\", label=r\"Theoretical Mean $\\mu_{0}$\")\n",
    "ax.set_ylabel(\"Count\")\n",
    "ax.legend();"
   ]
  },
  {
   "cell_type": "code",
   "execution_count": 3,
   "metadata": {},
   "outputs": [
    {
     "data": {
      "text/plain": [
       "Ttest_1sampResult(statistic=-3.335711380689097, pvalue=0.001628519936938842)"
      ]
     },
     "execution_count": 3,
     "metadata": {},
     "output_type": "execute_result"
    }
   ],
   "source": [
    "stats.ttest_1samp(sample_data, 21)"
   ]
  },
  {
   "cell_type": "markdown",
   "metadata": {},
   "source": [
    "Based on the results above (two-sided, since our alternative hypothesis) we can reject the null hypothesis at an alpha of 0.01, since the resulting p-value (0.0016) is less than our alpha. Therefore we can say that the difference between the sample mean and 21 is statistically significant at the 0.01 significance level."
   ]
  },
  {
   "cell_type": "markdown",
   "metadata": {},
   "source": [
    "### Chi-Square Test Introduction\n",
    "The chi-square $(X^2)$ test is applicable for discrete variables that can be represented by a probability mass function, which allows us to understand the data in terms of the frequencies of each outcome. There are several different kinds of chi-square tests depending on the question being asked, but we'll focus on Pearson's chi-square test and how it is applied for goodness of fit, independence, and homogeneity.\n",
    "\n",
    "Let's start with a goodness of fit example. This is kind of like the one-sample t-test shown above, in that we are comparing sample data to a theoretical value. This time instead of comparing the sample mean to a theoretical mean, we will compare the frequencies of observed data to the expected frequencies.\n",
    "\n",
    "Fair Coin?\n",
    "For this example, let's use the coin toss at the Super Bowl (data through Super Bowl 55). We expect that this is a \"fair\" coin, meaning that we would expect it to produce Heads and Tails equally often."
   ]
  },
  {
   "cell_type": "code",
   "execution_count": 5,
   "metadata": {},
   "outputs": [
    {
     "data": {
      "text/html": [
       "<div>\n",
       "<style scoped>\n",
       "    .dataframe tbody tr th:only-of-type {\n",
       "        vertical-align: middle;\n",
       "    }\n",
       "\n",
       "    .dataframe tbody tr th {\n",
       "        vertical-align: top;\n",
       "    }\n",
       "\n",
       "    .dataframe thead th {\n",
       "        text-align: right;\n",
       "    }\n",
       "</style>\n",
       "<table border=\"1\" class=\"dataframe\">\n",
       "  <thead>\n",
       "    <tr style=\"text-align: right;\">\n",
       "      <th></th>\n",
       "      <th>Super Bowl</th>\n",
       "      <th>Coin Toss Outcome</th>\n",
       "      <th>Coin Toss Winner</th>\n",
       "      <th>Game Winner</th>\n",
       "    </tr>\n",
       "  </thead>\n",
       "  <tbody>\n",
       "    <tr>\n",
       "      <th>50</th>\n",
       "      <td>51</td>\n",
       "      <td>Tails</td>\n",
       "      <td>Home Team</td>\n",
       "      <td>Away Team</td>\n",
       "    </tr>\n",
       "    <tr>\n",
       "      <th>51</th>\n",
       "      <td>52</td>\n",
       "      <td>Heads</td>\n",
       "      <td>Home Team</td>\n",
       "      <td>Away Team</td>\n",
       "    </tr>\n",
       "    <tr>\n",
       "      <th>52</th>\n",
       "      <td>53</td>\n",
       "      <td>Tails</td>\n",
       "      <td>Home Team</td>\n",
       "      <td>Away Team</td>\n",
       "    </tr>\n",
       "    <tr>\n",
       "      <th>53</th>\n",
       "      <td>54</td>\n",
       "      <td>Tails</td>\n",
       "      <td>Away Team</td>\n",
       "      <td>Home Team</td>\n",
       "    </tr>\n",
       "    <tr>\n",
       "      <th>54</th>\n",
       "      <td>55</td>\n",
       "      <td>Heads</td>\n",
       "      <td>Away Team</td>\n",
       "      <td>Home Team</td>\n",
       "    </tr>\n",
       "  </tbody>\n",
       "</table>\n",
       "</div>"
      ],
      "text/plain": [
       "    Super Bowl Coin Toss Outcome Coin Toss Winner Game Winner\n",
       "50          51             Tails        Home Team   Away Team\n",
       "51          52             Heads        Home Team   Away Team\n",
       "52          53             Tails        Home Team   Away Team\n",
       "53          54             Tails        Away Team   Home Team\n",
       "54          55             Heads        Away Team   Home Team"
      ]
     },
     "execution_count": 5,
     "metadata": {},
     "output_type": "execute_result"
    }
   ],
   "source": [
    "# Data from sportsbettingdime.com\n",
    "sb_data = pd.read_csv(\"D:\\Programming\\Datasets\\superbowl.csv\")\n",
    "sb_data.tail()"
   ]
  },
  {
   "cell_type": "code",
   "execution_count": 8,
   "metadata": {},
   "outputs": [
    {
     "data": {
      "text/plain": [
       "Heads    26\n",
       "Tails    29\n",
       "Name: Coin Toss Outcome, dtype: int64"
      ]
     },
     "execution_count": 8,
     "metadata": {},
     "output_type": "execute_result"
    }
   ],
   "source": [
    "#coin toss count\n",
    "coin_toss_counts = sb_data[\"Coin Toss Outcome\"].value_counts().sort_index()\n",
    "coin_toss_counts\n"
   ]
  },
  {
   "cell_type": "code",
   "execution_count": 9,
   "metadata": {},
   "outputs": [
    {
     "data": {
      "image/png": "[encoded data removed]",
      "text/plain": [
       "<Figure size 432x288 with 1 Axes>"
      ]
     },
     "metadata": {
      "needs_background": "light"
     },
     "output_type": "display_data"
    }
   ],
   "source": [
    "fig, ax = plt.subplots()\n",
    "\n",
    "# Extract observed counts\n",
    "fair_coin_observed = coin_toss_counts.values\n",
    "# Heads and tails each expected half the time\n",
    "fair_coin_expected = [sum(coin_toss_counts)/2, sum(coin_toss_counts)/2]\n",
    "\n",
    "# Placeholder data for display purposes; you can ignore these values\n",
    "x = np.array([0, 5])\n",
    "offset = 1\n",
    "bar_width = 2\n",
    "\n",
    "# Plot bars\n",
    "ax.bar(x-offset, fair_coin_observed, bar_width, label=\"Observed\")\n",
    "ax.bar(x+offset, fair_coin_expected, bar_width, label=\"Expected\")\n",
    "\n",
    "# Customize appearance\n",
    "ax.set_xticks(x)\n",
    "ax.set_xticklabels([\"Heads\", \"Tails\"])\n",
    "ax.set_ylabel(\"Count\")\n",
    "ax.legend(loc=\"right\")\n",
    "fig.suptitle(\"Super Bowl Coin Tosses\");"
   ]
  },
  {
   "cell_type": "markdown",
   "metadata": {},
   "source": [
    "As with the previous graph, the orange shows a theoretical (expected) value and the blue shows what we actually observed from our sample.\n",
    "\n",
    "Unlike the previous graph, the expected value is not a single line representing a parameter, it's a pair of orange bars showing how many times we would expect to see Heads and Tails outcomes.\n",
    "\n",
    "As you can see, the coin toss at the Super Bowl has had slightly fewer Heads results and slightly more Tails results than we expected. But is that difference statistically significant?\n",
    "\n",
    "To answer this, we'll need to perform a chi-square test.\n",
    "\n",
    "A chi-square test:\n",
    "\n",
    "- Has null and alternative hypotheses about the frequencies of categorical data. For the example shown above, we'll use the null hypothesis that p(heads) = 0.5 and p(tail) = 0.5 i.e. that there is no significant difference between the observed and expected values. The alternative hypothesis is that there is a significant difference.\n",
    "- Involves the calculation of a chi-square statistic (also just referred to as $x^2$) that represents a standardized version of the difference between the observed and expected values\n",
    "- Compares this $x^2$ to the chi-square distribution (the shape of which varies depending on the degrees of freedom) in order to determine whether we can reject the null hypothesis at a given alpha level — i.e. to determine whether the difference between the data and the theoretical expectation is statistically significant"
   ]
  },
  {
   "cell_type": "code",
   "execution_count": 10,
   "metadata": {},
   "outputs": [
    {
     "data": {
      "text/plain": [
       "Power_divergenceResult(statistic=0.16363636363636364, pvalue=0.6858304344516056)"
      ]
     },
     "execution_count": 10,
     "metadata": {},
     "output_type": "execute_result"
    }
   ],
   "source": [
    "fair_coin_result = stats.chisquare(fair_coin_observed, fair_coin_expected)\n",
    "fair_coin_result"
   ]
  },
  {
   "cell_type": "markdown",
   "metadata": {},
   "source": [
    "we do not have statistically significant evidence that the coin used here is not a \"fair\" coin! This was an example of a \"goodness of fit\" application of chi-square."
   ]
  },
  {
   "cell_type": "markdown",
   "metadata": {},
   "source": []
  }
 ],
 "metadata": {
  "kernelspec": {
   "display_name": "Python (learn-env)",
   "language": "python",
   "name": "learn-env"
  },
  "language_info": {
   "codemirror_mode": {
    "name": "ipython",
    "version": 3
   },
   "file_extension": ".py",
   "mimetype": "text/x-python",
   "name": "python",
   "nbconvert_exporter": "python",
   "pygments_lexer": "ipython3",
   "version": "3.8.6"
  }
 },
 "nbformat": 4,
 "nbformat_minor": 2
}
